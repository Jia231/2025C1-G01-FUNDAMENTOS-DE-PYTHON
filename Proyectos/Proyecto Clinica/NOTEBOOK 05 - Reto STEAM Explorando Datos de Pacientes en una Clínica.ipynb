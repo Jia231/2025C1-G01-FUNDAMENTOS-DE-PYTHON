{
 "cells": [
  {
   "cell_type": "markdown",
   "metadata": {
    "azdata_cell_guid": "e738b43d-fda9-409b-9e4e-f356323e1dbc"
   },
   "source": [
    "# Reto Bootcamp STEAM: Explorando Datos de Pacientes en una Clínica\n",
    "## Fundamentos de Python | UMCA\n",
    "## Profesor: Ing. Andrés Mena Abarca\n",
    "### <mark>**Nombre del estudiante:**</mark> Daniela Gomez, Jia Ming Liou\n",
    "* * *"
   ]
  },
  {
   "attachments": {},
   "cell_type": "markdown",
   "metadata": {
    "azdata_cell_guid": "5a9661f6-9c22-438b-8530-debb92fea2ff"
   },
   "source": [
    "¡Bienvenidos al reto STEAM! Hoy serás parte de un equipo de científicos de datos que está desarrollando una aplicación para analizar los datos de los pacientes de una clínica. Este proyecto se integra dentro del enfoque STEAM, donde no solo usaremos habilidades de programación y análisis, sino también creatividad, visualización y reflexión crítica para mejorar la experiencia de salud.\n",
    "\n",
    "En este reto, utilizaremos **Python** para analizar datos clínicos reales y responder preguntas importantes sobre la salud de los pacientes. También diseñarás soluciones creativas y colaborarás con tus compañeros para mejorar la aplicación.\n",
    "\n",
    "### Contexto:\n",
    "\n",
    "El director de la clínica te ha encargado que construyas un sistema que pueda analizar la información de los pacientes, entender las enfermedades tratadas, los medicamentos recetados y comparar pacientes.\n",
    "\n",
    "### Objetivos del Reto:\n",
    "1. Aplicar estructuras básicas de Python como listas y ciclos.\n",
    "2. Leer datos desde un archivo JSON y almacenarlos en listas.\n",
    "3. Realizar análisis de datos sobre enfermedades y medicamentos.\n",
    "4. Visualizar y comunicar los resultados de manera creativa.\n",
    "\n",
    "### Fase Creativa STEAM:\n",
    "- **Ciencia y Tecnología:** Analizarás los datos clínicos.\n",
    "- **Ingeniería:** Implementarás las soluciones utilizando estructuras de Python.\n",
    "- **Arte y Matemáticas:** Visualizarás los resultados de manera atractiva y clara.\n",
    "\n",
    "¡Comencemos!\n",
    "\n",
    "## Cargar y Leer los Datos de Pacientes"
   ]
  },
  {
   "cell_type": "code",
   "execution_count": 95,
   "metadata": {
    "azdata_cell_guid": "65553934-e4e4-4b44-aa2e-b234d1a33667",
    "language": "python"
   },
   "outputs": [],
   "source": [
    "import json\n",
    "\n",
    "pacientes = \"clinica_intermedio.json\"\n",
    "clinica = \"clinica.json\"\n",
    "\n",
    "with open(pacientes, encoding=\"utf-8\") as file:\n",
    "    datos_pacientes = json.load(file)\n",
    "\n",
    "with open(clinica, encoding=\"utf-8\") as file:\n",
    "    datos_clinica = json.load(file)\n",
    "\n",
    "    "
   ]
  },
  {
   "attachments": {},
   "cell_type": "markdown",
   "metadata": {
    "azdata_cell_guid": "27d04572-8b5b-46fa-b3ee-4ed3f2939a34",
    "language": "python"
   },
   "source": [
    "## Desafío 1: Análisis Científico - Reporte de Enfermedades Tratadas\n",
    "\n",
    "Tu primer reto es analizar los datos de los pacientes para generar un reporte de las enfermedades tratadas en la clínica. Utiliza listas y ciclos para contar cuántos pacientes han sido tratados por cada enfermedad.\n",
    "\n",
    "### Instrucciones:\n",
    "\n",
    "1. Crea una lista vacía donde almacenarás las enfermedades.\n",
    "2. Recorre los datos de los pacientes y extrae la enfermedad de cada paciente.\n",
    "3. Cuenta cuántos pacientes han sido tratados por cada enfermedad.\n",
    "4. Visualiza los resultados de manera clara utilizando la técnica que elijas (gráficos o tablas).\n",
    "\n",
    "### Preguntas:\n",
    "\n",
    "- ¿Qué enfermedades son las más tratadas en la clínica?\n",
    "- ¿Hay alguna enfermedad que te sorprenda por su prevalencia?\n",
    "\n"
   ]
  },
  {
   "attachments": {},
   "cell_type": "markdown",
   "metadata": {
    "azdata_cell_guid": "4b7c571d-d8f2-4d72-9f79-9718986200eb"
   },
   "source": [
    "### **Paso a Paso para el Estudiante**\n",
    "\n",
    "#### **Paso 1: Crear las Listas**\n",
    "\n",
    "### \n",
    "\n",
    "1. **Objetivo:** Necesitamos dos listas para almacenar:\n",
    "    \n",
    "    - Los nombres de las enfermedades.\n",
    "    - La cantidad de veces que cada enfermedad aparece.\n",
    "2. **Instrucción:**\n",
    "    \n",
    "    - Crea una lista vacía llamada `lista_enfermedades`.\n",
    "    - Crea otra lista vacía llamada `lista_cantidades`."
   ]
  },
  {
   "cell_type": "code",
   "execution_count": 96,
   "metadata": {
    "azdata_cell_guid": "61977840-044f-4cb3-858a-1812c43f3e2b",
    "language": "python"
   },
   "outputs": [],
   "source": [
    "# Lista para almacenar las enfermedades y sus cantidades\n",
    "\n",
    "lista_enfermedades = []\n",
    "lista_cantidades = []\n"
   ]
  },
  {
   "attachments": {},
   "cell_type": "markdown",
   "metadata": {
    "azdata_cell_guid": "549b6c62-76c6-4412-ae94-4d7a0ebd790d"
   },
   "source": [
    "#### **Paso 2: Recorrer los Datos de los Pacientes**\n",
    "\n",
    "### \n",
    "\n",
    "1. **Objetivo:** Vamos a analizar cada paciente para extraer su enfermedad.\n",
    "    \n",
    "2. **Instrucción:**\n",
    "    \n",
    "    - Usa un bucle `for` para recorrer cada `paciente` en `datos_pacientes` (ya está definida en el código como una lista de listas).\n",
    "    - Dentro del bucle, asigna la enfermedad del paciente (índice `4` de cada lista) a una variable llamada `enfermedad`."
   ]
  },
  {
   "cell_type": "code",
   "execution_count": 97,
   "metadata": {
    "azdata_cell_guid": "eaf15439-71de-42c1-b0d3-c4ee8210cf05",
    "language": "python"
   },
   "outputs": [
    {
     "name": "stdout",
     "output_type": "stream",
     "text": [
      "gripe\n",
      "gastritis\n",
      "tos\n",
      "migraña\n",
      "dolor\n",
      "gripe\n",
      "gastritis\n",
      "diabetes\n",
      "asma\n",
      "gripe\n",
      "hipotiroidismo\n",
      "alergias\n",
      "migraña\n",
      "presión alta\n",
      "dolor de espalda\n",
      "ansiedad\n",
      "diabetes\n",
      "asma\n",
      "alergias\n",
      "gastritis\n",
      "presión alta\n",
      "tos\n",
      "dolor de espalda\n",
      "ansiedad\n",
      "diabetes\n",
      "asma\n",
      "alergias\n",
      "hipotiroidismo\n",
      "gripe\n",
      "gastritis\n",
      "migraña\n",
      "presión alta\n",
      "asma\n",
      "diabetes\n",
      "dolor\n",
      "gastritis\n",
      "presión alta\n",
      "asma\n",
      "gripe\n"
     ]
    }
   ],
   "source": [
    "# Extraemos la enfermedad del paciente\n",
    "#Puedes imprimir el for para ver los datos que se procesan\n",
    "\n",
    "i = 0 \n",
    "for paciente in datos_pacientes:\n",
    "    enfermedad = paciente[4]\n",
    "    print(enfermedad)\n",
    "\n",
    "\n"
   ]
  },
  {
   "cell_type": "code",
   "execution_count": null,
   "metadata": {},
   "outputs": [],
   "source": []
  },
  {
   "attachments": {},
   "cell_type": "markdown",
   "metadata": {
    "azdata_cell_guid": "d587b0f6-79f4-4a71-bcaf-837bd0c31bee",
    "language": "python"
   },
   "source": [
    "#### **Paso 3: Verificar si la Enfermedad ya Está en la Lista**\n",
    "\n",
    "1. **Objetivo:** Verificar si la enfermedad ya fue registrada.\n",
    "    \n",
    "2. **Instrucción:**\n",
    "    \n",
    "    - Usa un `if` para verificar si la `enfermedad` ya está en `lista_enfermedades`.\n",
    "    - Si **no** está en `lista_enfermedades`, agrega la enfermedad a `lista_enfermedades` y añade `1` a `lista_cantidades` para contarla por primera vez.\n",
    "    - Si **sí** está en `lista_enfermedades`, encuentra la posición (`indice`) de la enfermedad en `lista_enfermedades` y aumenta en `1` el valor en `lista_cantidades` en la misma posición."
   ]
  },
  {
   "cell_type": "code",
   "execution_count": 98,
   "metadata": {
    "azdata_cell_guid": "f5cffccc-7f3a-45f8-b203-53faac8d2ab0",
    "language": "python"
   },
   "outputs": [],
   "source": [
    "# Pista: Usa `in` para verificar si la enfermedad ya está en lista_enfermedades.\n",
    "# Pista: Si la enfermedad no está, agrégala a lista_enfermedades y empieza el conteo en lista_cantidades.\n",
    "# Pista: Si la enfermedad ya está, usa `index` para encontrar su posición en lista_enfermedades y suma 1 en lista_cantidades en esa posición.\n",
    "\n",
    "i = 0 \n",
    "for paciente in datos_pacientes:\n",
    "    enfermedad = paciente[4]\n",
    "    if enfermedad not in lista_enfermedades:\n",
    "        lista_enfermedades.append(enfermedad)\n",
    "\n",
    "lista_enfermedades = set(list(lista_enfermedades))\n",
    "\n",
    "for enfermedad in lista_enfermedades:\n",
    "    conteo = 0\n",
    "    for paciente in datos_pacientes:\n",
    "        if paciente[4] == enfermedad:\n",
    "            conteo = conteo + 1\n",
    "    lista_cantidades.append(conteo)  \n",
    "          "
   ]
  },
  {
   "attachments": {},
   "cell_type": "markdown",
   "metadata": {
    "azdata_cell_guid": "2ceed8f4-0a9a-48ac-ba0d-d48dc319ab9f",
    "language": "python"
   },
   "source": [
    "#### **Paso 4: Imprimir el Reporte Final**\n",
    "\n",
    "1. **Objetivo:** Mostrar el número de pacientes con cada enfermedad.\n",
    "    \n",
    "2. **Instrucción:**\n",
    "    \n",
    "    - Usa un bucle `for` para recorrer la lista `lista_enfermedades`.\n",
    "    - En cada iteración, imprime la enfermedad y el número de pacientes (que está en `lista_cantidades` en la misma posición)."
   ]
  },
  {
   "cell_type": "code",
   "execution_count": 99,
   "metadata": {
    "azdata_cell_guid": "5368c6bd-5224-4c6f-a5ad-ef6767750039",
    "language": "python"
   },
   "outputs": [
    {
     "name": "stdout",
     "output_type": "stream",
     "text": [
      "Reporte de enfermedades tratadas:\n",
      "Hay un total de 3 pacientes con alergias\n",
      "Hay un total de 2 pacientes con ansiedad\n",
      "Hay un total de 5 pacientes con gripe\n",
      "Hay un total de 5 pacientes con gastritis\n",
      "Hay un total de 3 pacientes con migraña\n",
      "Hay un total de 4 pacientes con diabetes\n",
      "Hay un total de 2 pacientes con dolor de espalda\n",
      "Hay un total de 4 pacientes con presión alta\n",
      "Hay un total de 2 pacientes con hipotiroidismo\n",
      "Hay un total de 2 pacientes con tos\n",
      "Hay un total de 2 pacientes con dolor\n",
      "Hay un total de 5 pacientes con asma\n"
     ]
    }
   ],
   "source": [
    "print(\"Reporte de enfermedades tratadas:\")\n",
    "\n",
    "for index, val in enumerate(lista_enfermedades):\n",
    "    print(f\"Hay un total de {lista_cantidades[index]} pacientes con {val}\")\n"
   ]
  },
  {
   "attachments": {},
   "cell_type": "markdown",
   "metadata": {
    "azdata_cell_guid": "02262547-dabe-40b9-9ef0-5863dcad648b",
    "language": "python"
   },
   "source": [
    "### **Resumen Completo del Código**\n",
    "\n",
    "En ésta celda resume el código completo que debería tener al final para la solución del ejercicio:"
   ]
  },
  {
   "cell_type": "code",
   "execution_count": 142,
   "metadata": {
    "azdata_cell_guid": "fb7ea25e-c906-4f7e-9265-dd63d3193b54",
    "language": "python"
   },
   "outputs": [
    {
     "name": "stdout",
     "output_type": "stream",
     "text": [
      "Reporte de enfermedades tratadas:\n",
      "Hay un total de 3 pacientes con ALERGIAS\n",
      "Hay un total de 2 pacientes con ANSIEDAD\n",
      "Hay un total de 5 pacientes con GRIPE\n",
      "Hay un total de 5 pacientes con GASTRITIS\n",
      "Hay un total de 3 pacientes con MIGRAÑA\n",
      "Hay un total de 4 pacientes con DIABETES\n",
      "Hay un total de 2 pacientes con DOLOR DE ESPALDA\n",
      "Hay un total de 4 pacientes con PRESIÓN ALTA\n",
      "Hay un total de 2 pacientes con HIPOTIROIDISMO\n",
      "Hay un total de 2 pacientes con TOS\n",
      "Hay un total de 2 pacientes con DOLOR\n",
      "Hay un total de 5 pacientes con ASMA\n"
     ]
    }
   ],
   "source": [
    "#Esta parte puedes colocar todos los bloques de las celdas anteriores \n",
    "import json\n",
    "\n",
    "pacientes = \"clinica_intermedio.json\"\n",
    "\n",
    "with open(pacientes, encoding=\"utf-8\") as file:\n",
    "    data = json.load(file)\n",
    "\n",
    "\n",
    "lista_enfermedades = []\n",
    "lista_cantidades = []   \n",
    "\n",
    "\n",
    "i = 0 \n",
    "for paciente in datos_pacientes:\n",
    "    enfermedad = paciente[4]\n",
    "    if enfermedad not in lista_enfermedades:\n",
    "        lista_enfermedades.append(enfermedad)\n",
    "\n",
    "lista_enfermedades = set(list(lista_enfermedades))\n",
    "\n",
    "for enfermedad in lista_enfermedades:\n",
    "    conteo = 0\n",
    "    for paciente in datos_pacientes:\n",
    "        if paciente[4] == enfermedad:\n",
    "            conteo = conteo + 1\n",
    "    lista_cantidades.append(conteo)  \n",
    "\n",
    "print(\"Reporte de enfermedades tratadas:\")\n",
    "\n",
    "for index, val in enumerate(lista_enfermedades):\n",
    "    print(f\"Hay un total de {lista_cantidades[index]} pacientes con {val.upper()}\")    "
   ]
  },
  {
   "attachments": {},
   "cell_type": "markdown",
   "metadata": {
    "azdata_cell_guid": "babcfd28-f173-4adb-b593-c5cf58370bc0",
    "language": "python"
   },
   "source": [
    "## Desafío 2: Exploración Tecnológica - Reporte de Medicamentos Recetados\n",
    "\n",
    "Ahora que ya tienes el reporte de las enfermedades tratadas, es momento de explorar qué medicamentos se están recetando en la clínica. Tu tarea es generar un reporte similar al anterior, pero esta vez debes contar cuántos pacientes han recibido cada medicamento.\n",
    "\n",
    "### Instrucciones:\n",
    "\n",
    "1. Almacena los medicamentos recetados en una lista.\n",
    "2. Recorre los datos y cuenta cuántos pacientes han recibido cada medicamento.\n",
    "3. Visualiza los resultados de manera creativa.\n",
    "\n",
    "### Preguntas:\n",
    "\n",
    "- ¿Qué medicamentos son los más recetados?\n",
    "- ¿Cómo podrías optimizar el uso de medicamentos en la clínica?\n",
    "\n",
    "Resultados esperados: \n",
    "\n",
    "```\n",
    "Reporte de medicamentos recetados:\n",
    "acetaminofen: 9 pacientes\n",
    "antiácido: 2 pacientes\n",
    "jarabe: 2 pacientes\n",
    "insulina: 3 pacientes\n",
    "salbutamol: 4 pacientes\n",
    "levotiroxina: 2 pacientes\n",
    "............................................\n",
    "\n",
    "```"
   ]
  },
  {
   "cell_type": "code",
   "execution_count": 119,
   "metadata": {
    "azdata_cell_guid": "85051147-a5a3-40e9-a423-179ac721be03",
    "language": "python"
   },
   "outputs": [
    {
     "name": "stdout",
     "output_type": "stream",
     "text": [
      "Reporte de medicamentos recetados:\n",
      "jarabe: 2 pacientes\n",
      "omeprazol: 2 pacientes\n",
      "levotiroxina: 2 pacientes\n",
      "salbutamol: 4 pacientes\n",
      "pantoprazol: 1 pacientes\n",
      "amlodipino: 2 pacientes\n",
      "paracetamol: 1 pacientes\n",
      "loratadina: 2 pacientes\n",
      "losartán: 1 pacientes\n",
      "ibuprofeno: 2 pacientes\n",
      "enalapril: 1 pacientes\n",
      "diazepam: 1 pacientes\n",
      "fluticasona: 1 pacientes\n",
      "metformina: 1 pacientes\n",
      "acetaminofen: 9 pacientes\n",
      "insulina: 3 pacientes\n",
      "cetirizina: 1 pacientes\n",
      "clonazepam: 1 pacientes\n",
      "antiácido: 2 pacientes\n"
     ]
    }
   ],
   "source": [
    "# Listas para almacenar los medicamentos y sus frecuencias\n",
    "medicamentos = []\n",
    "frecuencias = []\n",
    "\n",
    "for paciente in datos_pacientes:\n",
    "    medicamentos.append(paciente[5])\n",
    "\n",
    "medicamentos = set(list(medicamentos))\n",
    "\n",
    "for medicamento in medicamentos:\n",
    "    count = 0\n",
    "    for paciente in datos_pacientes:\n",
    "        if medicamento == paciente[5]:\n",
    "            count = count + 1\n",
    "    frecuencias.append(count)     \n",
    "\n",
    "\n",
    "print(\"Reporte de medicamentos recetados:\")\n",
    "for index, medicamento in enumerate(medicamentos):\n",
    "    print(f\"{medicamento}: {frecuencias[index]} pacientes\")     \n"
   ]
  },
  {
   "attachments": {},
   "cell_type": "markdown",
   "metadata": {
    "azdata_cell_guid": "e75d82f8-c903-459c-b6b4-3cdc9d23ac5c"
   },
   "source": [
    "## Desafío 3: Ingeniería - Comparar Pacientes por Identificación\n",
    "\n",
    "Este desafío te permitirá comparar dos pacientes de la clínica en base a sus identificaciones. Tu objetivo es averiguar:\n",
    "\n",
    "1. **¿Qué enfermedades tienen en común?**\n",
    "2. **¿Qué medicamentos toman en común?**\n",
    "\n",
    "### Instrucciones:\n",
    "\n",
    "1. Solicita dos identificaciones de pacientes al usuario.\n",
    "2. Extrae las enfermedades y medicamentos de esos dos pacientes.\n",
    "3. Compara las enfermedades y medicamentos y muestra los resultados.\n",
    "\n",
    "### Preguntas:\n",
    "\n",
    "- ¿Qué enfermedades y medicamentos son comunes en los pacientes comparados?\n",
    "- ¿Qué información adicional podrías incluir para mejorar esta comparación?\n"
   ]
  },
  {
   "cell_type": "code",
   "execution_count": 126,
   "metadata": {
    "azdata_cell_guid": "26417c6c-aa5d-41a9-b7c7-fa268a476a6d",
    "language": "python",
    "tags": []
   },
   "outputs": [
    {
     "name": "stdout",
     "output_type": "stream",
     "text": [
      "Enfermedades en común entre 702370234 y 215487963: ['migraña'] \n",
      "Medicamentos en común entre 702370234 y 215487963: ['acetaminofen'] \n"
     ]
    },
    {
     "data": {
      "text/plain": [
       "\"\\nPrueba con 702370234 - 215487963\\nSalida esperada\\nEnfermedades en común entre 702370234 y 215487963: ['migraña']\\nMedicamentos en común entre 702370234 y 215487963: ['acetaminofen']\\n\""
      ]
     },
     "execution_count": 126,
     "metadata": {},
     "output_type": "execute_result"
    }
   ],
   "source": [
    "# Pedimos las identificaciones de los dos pacientes\n",
    "\n",
    "cedula1 = input(\"Ingrese su cedula\")\n",
    "cedula2 = input(\"Ingrese su cedula\")\n",
    "\n",
    "lista_paciente = []\n",
    "for paciente in datos_pacientes:\n",
    "    if cedula1 == paciente[0]:\n",
    "        lista_paciente.append(paciente)\n",
    "    if cedula2 == paciente[0]:\n",
    "        lista_paciente.append(paciente)\n",
    "\n",
    "print(f\"Enfermedades en común entre {cedula1} y {cedula2}: ['{lista_paciente[0][4]}'] \")\n",
    "print(f\"Medicamentos en común entre {cedula1} y {cedula2}: ['{lista_paciente[0][5]}'] \")\n",
    "            \n",
    "\n",
    "\"\"\"\n",
    "Prueba con 702370234 - 215487963\n",
    "Salida esperada\n",
    "Enfermedades en común entre 702370234 y 215487963: ['migraña']\n",
    "Medicamentos en común entre 702370234 y 215487963: ['acetaminofen']\n",
    "\"\"\""
   ]
  },
  {
   "attachments": {},
   "cell_type": "markdown",
   "metadata": {
    "azdata_cell_guid": "ac71941a-8e0d-4ea1-98ff-b293ecd8defb",
    "language": "python"
   },
   "source": [
    "## Desafío Final: Arte y Matemáticas - Visualización Creativa y Reflexión\n",
    "\n",
    "Has llegado al último desafío, ¡felicidades! Ahora es momento de presentar tus resultados de una forma creativa. Tu tarea será utilizar **gráficos**, **tablas** o incluso **arte digital** para mostrar tus descubrimientos sobre los datos de los pacientes de la clínica.\n",
    "\n",
    "\n",
    "### Preguntas:\n",
    "\n",
    "- ¿Qué patrones encontraste en los datos?\n",
    "- ¿Cómo podrías usar estos análisis para mejorar la atención de los pacientes?"
   ]
  },
  {
   "cell_type": "code",
   "execution_count": 144,
   "metadata": {},
   "outputs": [
    {
     "data": {
      "image/png": "[encoded data removed]",
      "text/plain": [
       "<Figure size 640x480 with 1 Axes>"
      ]
     },
     "metadata": {},
     "output_type": "display_data"
    },
    {
     "data": {
      "image/png": "[encoded data removed]",
      "text/plain": [
       "<Figure size 640x480 with 1 Axes>"
      ]
     },
     "metadata": {},
     "output_type": "display_data"
    }
   ],
   "source": [
    "import matplotlib.pyplot as plt\n",
    "\n",
    "xpoints = list(medicamentos)\n",
    "ypoints = frecuencias\n",
    "\n",
    "plt.plot(xpoints, ypoints)\n",
    "plt.xticks(rotation=60)\n",
    "plt.show()\n",
    "\n",
    "\n",
    "xpoints1 = list(lista_enfermedades)\n",
    "ypoints1 = lista_cantidades\n",
    "\n",
    "plt.plot(xpoints1, ypoints1)\n",
    "plt.xticks(rotation=60)\n",
    "plt.show()\n"
   ]
  },
  {
   "cell_type": "markdown",
   "metadata": {},
   "source": [
    "Reflexion\n",
    "\n",
    "Acetaminofen seria el medicamento mas recetado.\n",
    "\n",
    "Las enfermedades mas comunes son gripe, gastritis y asma.\n",
    "\n",
    "4 de 5 pacientes de asma se les recetaron salbutamol mientras que a uno se le receto fluticasona.\n",
    "\n",
    "A los pacientes con gastritis se les receto 3 medicamentos diferentes.\n",
    "\n",
    "A los pacientes con gripe se les receto en su totalidad acetaminofen."
   ]
  }
 ],
 "metadata": {
  "kernelspec": {
   "display_name": "Python 3",
   "language": "python",
   "name": "python3"
  },
  "language_info": {
   "codemirror_mode": {
    "name": "ipython",
    "version": 3
   },
   "file_extension": ".py",
   "mimetype": "text/x-python",
   "name": "python",
   "nbconvert_exporter": "python",
   "pygments_lexer": "ipython3",
   "version": "3.11.9"
  }
 },
 "nbformat": 4,
 "nbformat_minor": 2
}
